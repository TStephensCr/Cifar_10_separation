{
  "cells": [
    {
      "cell_type": "markdown",
      "metadata": {
        "id": "view-in-github",
        "colab_type": "text"
      },
      "source": [
        "<a href=\"https://colab.research.google.com/github/TStephensCr/Cifar_10_separation/blob/main/cifar_10_separation.ipynb\" target=\"_parent\"><img src=\"https://colab.research.google.com/assets/colab-badge.svg\" alt=\"Open In Colab\"/></a>"
      ]
    },
    {
      "cell_type": "markdown",
      "metadata": {
        "id": "mE7oyG0wv6e0"
      },
      "source": [
        "# Separazione di immagini Cifar10\n",
        "\n",
        "Il modello prende in input una immagine ottenuta come media di due campioni random presi da Cifar10, e deve predirre le categorie delle due componenti.\n",
        "\n",
        "La prima immagine appartiene alle prime 5 categorie (airplane, automobile, bird, cat, deer), mentre la seconda appartiene alle restanti (dog, frog, horse, ship, truck). Il modello deve restituire due label, ognuna in un range di 5 valori.\n",
        "\n",
        "La metrica con cui valutare il modello è la seguente: calcolate l'accuratezza della classificazione per le due immagini componenti, e poi fatene la media.\n",
        "\n",
        "La metrica deve essere valutata su 10000 input generati da dati di test. Ripetete il calcolo 10 volte e misurate la deviazione standard, che deve essere riportata.\n",
        "\n",
        "Nel seguito si fornisce un generatore dei dati e qualche esempio."
      ]
    },
    {
      "cell_type": "markdown",
      "metadata": {
        "id": "USdmzjiO0W6D"
      },
      "source": [
        "#Preparazione dei dati"
      ]
    },
    {
      "cell_type": "code",
      "execution_count": null,
      "metadata": {
        "id": "iHjnh5XP0Sq4"
      },
      "outputs": [],
      "source": [
        "import tensorflow as tf\n",
        "from tensorflow.keras import layers\n",
        "from tensorflow.keras.models import Model\n",
        "from tensorflow.keras.datasets import cifar10\n",
        "from tensorflow.keras.callbacks import ReduceLROnPlateau\n",
        "from tensorflow.keras.layers import Dense, Dropout\n",
        "from tensorflow.keras.preprocessing.image import ImageDataGenerator\n",
        "import numpy as np\n",
        "from matplotlib import pyplot as plt"
      ]
    },
    {
      "cell_type": "code",
      "execution_count": null,
      "metadata": {
        "id": "yRYiW2ipukZF"
      },
      "outputs": [],
      "source": [
        "(cifar10_x_train, cifar10_y_train), (cifar10_x_test, cifar10_y_test) = cifar10.load_data()\n",
        "assert cifar10_x_train.shape == (50000, 32, 32, 3)\n",
        "assert cifar10_x_test.shape == (10000, 32, 32, 3)\n",
        "assert cifar10_y_train.shape == (50000, 1)\n",
        "assert cifar10_y_test.shape == (10000, 1)\n",
        "\n",
        "classes = [\"airplane\", \"automobile\", \"bird\", \"cat\", \"deer\", \"dog\", \"frog\", \"horse\", \"ship\", \"truck\"]\n",
        "\n",
        "cifar10_x_train = (cifar10_x_train/255.).astype(np.float32)\n",
        "cifar10_x_test = (cifar10_x_test/255.).astype(np.float32)"
      ]
    },
    {
      "cell_type": "markdown",
      "metadata": {
        "id": "ZkiGnU4d0k4d"
      },
      "source": [
        "Separiamo le immagini in due gruppi, in relazione alla loro etichetta.\n"
      ]
    },
    {
      "cell_type": "code",
      "execution_count": null,
      "metadata": {
        "id": "Dpey42Vo07Yb"
      },
      "outputs": [],
      "source": [
        "cond_1 = cifar10_y_train[:,0] < 5\n",
        "cifar10_x_train_1 = cifar10_x_train[cond_1]\n",
        "cifar10_y_train_1 = cifar10_y_train[cond_1]\n",
        "\n",
        "cond_2 = cifar10_y_train[:,0] >= 5\n",
        "cifar10_x_train_2 = cifar10_x_train[cond_2]\n",
        "cifar10_y_train_2 = cifar10_y_train[cond_2]\n",
        "\n",
        "cond_1_test = cifar10_y_test[:,0] < 5\n",
        "cifar10_x_test_1 = cifar10_x_test[cond_1_test]\n",
        "cifar10_y_test_1 = cifar10_y_test[cond_1_test]\n",
        "\n",
        "cond_2_test = cifar10_y_test[:,0] >= 5\n",
        "cifar10_x_test_2 = cifar10_x_test[cond_2_test]\n",
        "cifar10_y_test_2 = cifar10_y_test[cond_2_test]"
      ]
    },
    {
      "cell_type": "markdown",
      "metadata": {
        "id": "qmLYNuR-0s0m"
      },
      "source": [
        "Adesso possiamo definire il generatore. In input abbiamo due datasets (X1,X2), le etichette corrispondenti (Y1,Y2) e una batchsize.\n",
        "\n",
        "Il generatore resituisce x_data, y_data, dove\n",
        "\n",
        "*   x_data è una batch di immagini ottenute come media di campioni random in X1 and X2\n",
        "*   y_data è una coppia di batch di etichette relative alle immagini componenti, espresse in formato categorico"
      ]
    },
    {
      "cell_type": "code",
      "execution_count": null,
      "metadata": {
        "id": "7Y5Zpv5fw2hd"
      },
      "outputs": [],
      "source": [
        "def datagenerator(X1,X2,Y1,Y2,batchsize):\n",
        "  size1 = X1.shape[0]\n",
        "  size2 = X2.shape[0]\n",
        "  Y1_cat = tf.keras.utils.to_categorical(Y1, num_classes=5)\n",
        "  Y2_cat = tf.keras.utils.to_categorical(Y2-5, num_classes=5)\n",
        "\n",
        "  def augment_image(image): # Funzione di data augmentation, ottenuta ruotando le immagini\n",
        "    image = tf.image.random_flip_left_right(image)\n",
        "    image = tf.image.random_flip_up_down(image)\n",
        "    image = tf.image.random_brightness(image, max_delta=0.2)\n",
        "    image = tf.image.random_contrast(image, lower=0.8, upper=1.2)\n",
        "    image = tf.image.rot90(image, k=np.random.randint(0, 4))\n",
        "    return image\n",
        "\n",
        "  while True:\n",
        "    num1 = np.random.randint(0, size1, batchsize)\n",
        "    num2 = np.random.randint(0, size2, batchsize)\n",
        "    x_data = (X1[num1] + X2[num2]) / 2.0\n",
        "    x_data = np.array([augment_image(x).numpy() for x in x_data])\n",
        "    y_data = [Y1_cat[num1],Y2_cat[num2]]\n",
        "\n",
        "    yield x_data, y_data"
      ]
    },
    {
      "cell_type": "markdown",
      "metadata": {
        "id": "Z9lf3TuP2pdQ"
      },
      "source": [
        "Instanziamo un generatore su Cifar10 con batchsize=1, e testiamone il comportamento."
      ]
    },
    {
      "cell_type": "code",
      "execution_count": null,
      "metadata": {
        "id": "29TldJ6-720b"
      },
      "outputs": [],
      "source": [
        "datagen = datagenerator(cifar10_x_train_1,cifar10_x_train_2,cifar10_y_train_1,cifar10_y_train_2,1)"
      ]
    },
    {
      "cell_type": "markdown",
      "metadata": {
        "id": "W1DrJVzI3ysV"
      },
      "source": [
        "Generiamo un esempio, mostriamo l'immagine che deve essere presa in input dal modello, e stampiamo le categorie delle due componenti sovrapposte.\n",
        "\n",
        "Potete rirpetere l'esecuzione della cella per mostrare nuovi esempi."
      ]
    },
    {
      "cell_type": "code",
      "execution_count": null,
      "metadata": {
        "colab": {
          "base_uri": "https://localhost:8080/",
          "height": 465
        },
        "id": "qL1sMtjG8VmG",
        "outputId": "d23116e8-8b17-4caa-c803-f45a92808752"
      },
      "outputs": [
        {
          "output_type": "stream",
          "name": "stdout",
          "text": [
            "first: cat, second = truck\n"
          ]
        },
        {
          "output_type": "execute_result",
          "data": {
            "text/plain": [
              "<matplotlib.image.AxesImage at 0x79eb8515d1e0>"
            ]
          },
          "metadata": {},
          "execution_count": 18
        },
        {
          "output_type": "display_data",
          "data": {
            "text/plain": [
              "<Figure size 640x480 with 1 Axes>"
            ],
            "image/png": "[encoded data removed]"
          },
          "metadata": {}
        }
      ],
      "source": [
        "x, y = next(datagen)\n",
        "\n",
        "print(\"first: {}, second = {}\".format(classes[np.argmax(y[0][0])],classes[np.argmax(y[1][0])+5]))\n",
        "#print(np.min(x[0]),np.max(x[0]))\n",
        "plt.imshow(x[0])"
      ]
    },
    {
      "cell_type": "markdown",
      "metadata": {
        "id": "l5lzBotwL5QN"
      },
      "source": [
        "# Valutazione"
      ]
    },
    {
      "cell_type": "markdown",
      "metadata": {
        "id": "9_p4UuG1QF8t"
      },
      "source": [
        "Dfiniamo innanzi tutto il generatore di testing."
      ]
    },
    {
      "cell_type": "code",
      "execution_count": null,
      "metadata": {
        "colab": {
          "base_uri": "https://localhost:8080/"
        },
        "id": "cQo8_6w-L4WY",
        "outputId": "5c046fa1-4468-415a-bbb5-211236d913b9"
      },
      "outputs": [
        {
          "output_type": "stream",
          "name": "stdout",
          "text": [
            "(10000, 32, 32, 3)\n"
          ]
        }
      ],
      "source": [
        "testgen = datagenerator(cifar10_x_test_1,cifar10_x_test_2,cifar10_y_test_1,cifar10_y_test_2,10000)\n",
        "\n",
        "eval_samples_x, eval_samples_y = next(testgen)\n",
        "print(eval_samples_x.shape)"
      ]
    },
    {
      "cell_type": "markdown",
      "metadata": {
        "id": "4MiLnkKROGCD"
      },
      "source": [
        "Segue il modello."
      ]
    },
    {
      "cell_type": "code",
      "execution_count": null,
      "metadata": {
        "id": "1GllTEtPN_xv"
      },
      "outputs": [],
      "source": [
        "def build_model():\n",
        "    input_layer = layers.Input(shape=(32, 32, 3))\n",
        "\n",
        "    # First convolutional block\n",
        "    conv1 = layers.Conv2D(32, kernel_size=(3, 3), activation='relu', padding='same')(input_layer)\n",
        "    norm1 = layers.BatchNormalization()(conv1)\n",
        "    conv2 = layers.Conv2D(32, kernel_size=(3, 3), activation='relu', padding='same')(norm1)\n",
        "    norm2 = layers.BatchNormalization()(conv2)\n",
        "    pool1 = layers.MaxPooling2D(pool_size=(2, 2))(norm2)\n",
        "\n",
        "    # Second convolutional block\n",
        "    conv3 = layers.Conv2D(64, kernel_size=(3, 3), activation='relu', padding='same')(pool1)\n",
        "    norm3 = layers.BatchNormalization()(conv3)\n",
        "    conv4 = layers.Conv2D(64, kernel_size=(3, 3), activation='relu', padding='same')(norm3)\n",
        "    norm4 = layers.BatchNormalization()(conv4)\n",
        "    pool2 = layers.MaxPooling2D(pool_size=(2, 2))(norm4)\n",
        "\n",
        "    # Residual connection block\n",
        "    shortcut = layers.Conv2D(128, kernel_size=(1, 1), strides=(1, 1), padding='same')(pool2)\n",
        "    conv5 = layers.Conv2D(128, kernel_size=(3, 3), activation='relu', padding='same')(pool2)\n",
        "    norm5 = layers.BatchNormalization()(conv5)\n",
        "    conv6 = layers.Conv2D(128, kernel_size=(3, 3), activation=None, padding='same')(norm5)\n",
        "    norm6 = layers.BatchNormalization()(conv6)\n",
        "    add_layer = layers.Add()([norm6, shortcut])\n",
        "    activation_layer = layers.ReLU()(add_layer)\n",
        "    pool3 = layers.MaxPooling2D(pool_size=(2, 2))(activation_layer)\n",
        "\n",
        "    # Global pooling\n",
        "    global_pool = layers.GlobalAveragePooling2D()(pool3)\n",
        "\n",
        "    # Fully connected layers\n",
        "    dense1 = layers.Dense(512, activation='relu')(global_pool)\n",
        "    dropout_layer = layers.Dropout(0.5)(dense1)\n",
        "\n",
        "    # Output layers\n",
        "    out1 = layers.Dense(5, activation='softmax', name='class_output1')(dropout_layer)\n",
        "    out2 = layers.Dense(5, activation='softmax', name='class_output2')(dropout_layer)\n",
        "\n",
        "    # Model assembly and compilation\n",
        "    net = Model(inputs=input_layer, outputs=[out1, out2])\n",
        "    net.compile(\n",
        "        optimizer=tf.keras.optimizers.Adam(learning_rate=0.001),\n",
        "        loss='categorical_crossentropy',\n",
        "        metrics=[['accuracy'], ['accuracy']]\n",
        "    )\n",
        "\n",
        "    return net"
      ]
    },
    {
      "cell_type": "code",
      "execution_count": null,
      "metadata": {
        "id": "gomFTuuDOy8A"
      },
      "outputs": [],
      "source": [
        "# Funzione per richiamare e valutare il modello\n",
        "def assess_model(trained_model):\n",
        "    sample_inputs, sample_labels = next(testgen)\n",
        "    predictions = trained_model(sample_inputs)\n",
        "    acc1 = np.argmax(predictions[0], axis=1) == sample_labels[0][:, 0]\n",
        "    acc2 = np.argmax(predictions[1], axis=1) == sample_labels[1][:, 0]\n",
        "    return (np.mean(acc1) + np.mean(acc2)) / 2"
      ]
    },
    {
      "cell_type": "code",
      "execution_count": null,
      "metadata": {
        "colab": {
          "base_uri": "https://localhost:8080/"
        },
        "id": "i4AL2M6yjJno",
        "outputId": "71270d01-d07f-4f93-87ed-8201d7fd6095"
      },
      "outputs": [
        {
          "output_type": "stream",
          "name": "stdout",
          "text": [
            "Epoch 1/20\n",
            "\u001b[1m1563/1563\u001b[0m \u001b[32m━━━━━━━━━━━━━━━━━━━━\u001b[0m\u001b[37m\u001b[0m \u001b[1m24s\u001b[0m 10ms/step - class_output1_accuracy: 0.6209 - class_output1_loss: 0.9908 - class_output2_accuracy: 0.6677 - class_output2_loss: 0.8678 - loss: 1.8586 - val_class_output1_accuracy: 0.7190 - val_class_output1_loss: 0.7094 - val_class_output2_accuracy: 0.7925 - val_class_output2_loss: 0.5561 - val_loss: 1.2664 - learning_rate: 0.0010\n",
            "Epoch 2/20\n",
            "\u001b[1m1563/1563\u001b[0m \u001b[32m━━━━━━━━━━━━━━━━━━━━\u001b[0m\u001b[37m\u001b[0m \u001b[1m10s\u001b[0m 6ms/step - class_output1_accuracy: 0.7468 - class_output1_loss: 0.6472 - class_output2_accuracy: 0.8281 - class_output2_loss: 0.4655 - loss: 1.1127 - val_class_output1_accuracy: 0.7727 - val_class_output1_loss: 0.5908 - val_class_output2_accuracy: 0.8539 - val_class_output2_loss: 0.4023 - val_loss: 0.9937 - learning_rate: 0.0010\n",
            "Epoch 3/20\n",
            "\u001b[1m1563/1563\u001b[0m \u001b[32m━━━━━━━━━━━━━━━━━━━━\u001b[0m\u001b[37m\u001b[0m \u001b[1m10s\u001b[0m 6ms/step - class_output1_accuracy: 0.8046 - class_output1_loss: 0.5087 - class_output2_accuracy: 0.8719 - class_output2_loss: 0.3477 - loss: 0.8564 - val_class_output1_accuracy: 0.8079 - val_class_output1_loss: 0.5144 - val_class_output2_accuracy: 0.8712 - val_class_output2_loss: 0.3542 - val_loss: 0.8691 - learning_rate: 0.0010\n",
            "Epoch 4/20\n",
            "\u001b[1m1563/1563\u001b[0m \u001b[32m━━━━━━━━━━━━━━━━━━━━\u001b[0m\u001b[37m\u001b[0m \u001b[1m10s\u001b[0m 6ms/step - class_output1_accuracy: 0.8340 - class_output1_loss: 0.4301 - class_output2_accuracy: 0.8985 - class_output2_loss: 0.2802 - loss: 0.7103 - val_class_output1_accuracy: 0.8219 - val_class_output1_loss: 0.4586 - val_class_output2_accuracy: 0.8930 - val_class_output2_loss: 0.2992 - val_loss: 0.7582 - learning_rate: 0.0010\n",
            "Epoch 5/20\n",
            "\u001b[1m1563/1563\u001b[0m \u001b[32m━━━━━━━━━━━━━━━━━━━━\u001b[0m\u001b[37m\u001b[0m \u001b[1m10s\u001b[0m 6ms/step - class_output1_accuracy: 0.8661 - class_output1_loss: 0.3600 - class_output2_accuracy: 0.9171 - class_output2_loss: 0.2319 - loss: 0.5918 - val_class_output1_accuracy: 0.8501 - val_class_output1_loss: 0.4103 - val_class_output2_accuracy: 0.9005 - val_class_output2_loss: 0.2897 - val_loss: 0.7003 - learning_rate: 0.0010\n",
            "Epoch 6/20\n",
            "\u001b[1m1563/1563\u001b[0m \u001b[32m━━━━━━━━━━━━━━━━━━━━\u001b[0m\u001b[37m\u001b[0m \u001b[1m10s\u001b[0m 6ms/step - class_output1_accuracy: 0.8827 - class_output1_loss: 0.3156 - class_output2_accuracy: 0.9319 - class_output2_loss: 0.1911 - loss: 0.5068 - val_class_output1_accuracy: 0.8268 - val_class_output1_loss: 0.4853 - val_class_output2_accuracy: 0.8808 - val_class_output2_loss: 0.3489 - val_loss: 0.8351 - learning_rate: 0.0010\n",
            "Epoch 7/20\n",
            "\u001b[1m1563/1563\u001b[0m \u001b[32m━━━━━━━━━━━━━━━━━━━━\u001b[0m\u001b[37m\u001b[0m \u001b[1m10s\u001b[0m 6ms/step - class_output1_accuracy: 0.8987 - class_output1_loss: 0.2727 - class_output2_accuracy: 0.9415 - class_output2_loss: 0.1636 - loss: 0.4363 - val_class_output1_accuracy: 0.8536 - val_class_output1_loss: 0.4221 - val_class_output2_accuracy: 0.9089 - val_class_output2_loss: 0.2740 - val_loss: 0.6961 - learning_rate: 0.0010\n",
            "Epoch 8/20\n",
            "\u001b[1m1563/1563\u001b[0m \u001b[32m━━━━━━━━━━━━━━━━━━━━\u001b[0m\u001b[37m\u001b[0m \u001b[1m10s\u001b[0m 6ms/step - class_output1_accuracy: 0.9140 - class_output1_loss: 0.2312 - class_output2_accuracy: 0.9514 - class_output2_loss: 0.1371 - loss: 0.3684 - val_class_output1_accuracy: 0.8542 - val_class_output1_loss: 0.4129 - val_class_output2_accuracy: 0.9094 - val_class_output2_loss: 0.2848 - val_loss: 0.6980 - learning_rate: 0.0010\n",
            "Epoch 9/20\n",
            "\u001b[1m1563/1563\u001b[0m \u001b[32m━━━━━━━━━━━━━━━━━━━━\u001b[0m\u001b[37m\u001b[0m \u001b[1m10s\u001b[0m 6ms/step - class_output1_accuracy: 0.9234 - class_output1_loss: 0.2032 - class_output2_accuracy: 0.9591 - class_output2_loss: 0.1147 - loss: 0.3179 - val_class_output1_accuracy: 0.8308 - val_class_output1_loss: 0.5255 - val_class_output2_accuracy: 0.8692 - val_class_output2_loss: 0.4247 - val_loss: 0.9507 - learning_rate: 0.0010\n",
            "Epoch 10/20\n",
            "\u001b[1m1559/1563\u001b[0m \u001b[32m━━━━━━━━━━━━━━━━━━━\u001b[0m\u001b[37m━\u001b[0m \u001b[1m0s\u001b[0m 5ms/step - class_output1_accuracy: 0.9311 - class_output1_loss: 0.1890 - class_output2_accuracy: 0.9639 - class_output2_loss: 0.1029 - loss: 0.2919\n",
            "Epoch 10: ReduceLROnPlateau reducing learning rate to 0.0003000000142492354.\n",
            "\u001b[1m1563/1563\u001b[0m \u001b[32m━━━━━━━━━━━━━━━━━━━━\u001b[0m\u001b[37m\u001b[0m \u001b[1m10s\u001b[0m 6ms/step - class_output1_accuracy: 0.9311 - class_output1_loss: 0.1890 - class_output2_accuracy: 0.9639 - class_output2_loss: 0.1029 - loss: 0.2919 - val_class_output1_accuracy: 0.8595 - val_class_output1_loss: 0.4590 - val_class_output2_accuracy: 0.9145 - val_class_output2_loss: 0.2852 - val_loss: 0.7446 - learning_rate: 0.0010\n",
            "Epoch 11/20\n",
            "\u001b[1m1563/1563\u001b[0m \u001b[32m━━━━━━━━━━━━━━━━━━━━\u001b[0m\u001b[37m\u001b[0m \u001b[1m10s\u001b[0m 6ms/step - class_output1_accuracy: 0.9590 - class_output1_loss: 0.1172 - class_output2_accuracy: 0.9801 - class_output2_loss: 0.0581 - loss: 0.1753 - val_class_output1_accuracy: 0.8768 - val_class_output1_loss: 0.4311 - val_class_output2_accuracy: 0.9226 - val_class_output2_loss: 0.2837 - val_loss: 0.7151 - learning_rate: 3.0000e-04\n",
            "Epoch 12/20\n",
            "\u001b[1m1563/1563\u001b[0m \u001b[32m━━━━━━━━━━━━━━━━━━━━\u001b[0m\u001b[37m\u001b[0m \u001b[1m10s\u001b[0m 7ms/step - class_output1_accuracy: 0.9751 - class_output1_loss: 0.0687 - class_output2_accuracy: 0.9893 - class_output2_loss: 0.0321 - loss: 0.1007 - val_class_output1_accuracy: 0.8786 - val_class_output1_loss: 0.4527 - val_class_output2_accuracy: 0.9262 - val_class_output2_loss: 0.3136 - val_loss: 0.7666 - learning_rate: 3.0000e-04\n",
            "Epoch 13/20\n",
            "\u001b[1m1560/1563\u001b[0m \u001b[32m━━━━━━━━━━━━━━━━━━━\u001b[0m\u001b[37m━\u001b[0m \u001b[1m0s\u001b[0m 6ms/step - class_output1_accuracy: 0.9812 - class_output1_loss: 0.0550 - class_output2_accuracy: 0.9921 - class_output2_loss: 0.0248 - loss: 0.0798\n",
            "Epoch 13: ReduceLROnPlateau reducing learning rate to 9.000000427477062e-05.\n",
            "\u001b[1m1563/1563\u001b[0m \u001b[32m━━━━━━━━━━━━━━━━━━━━\u001b[0m\u001b[37m\u001b[0m \u001b[1m10s\u001b[0m 6ms/step - class_output1_accuracy: 0.9812 - class_output1_loss: 0.0550 - class_output2_accuracy: 0.9921 - class_output2_loss: 0.0248 - loss: 0.0798 - val_class_output1_accuracy: 0.8737 - val_class_output1_loss: 0.4771 - val_class_output2_accuracy: 0.9231 - val_class_output2_loss: 0.3338 - val_loss: 0.8115 - learning_rate: 3.0000e-04\n",
            "Epoch 14/20\n",
            "\u001b[1m1563/1563\u001b[0m \u001b[32m━━━━━━━━━━━━━━━━━━━━\u001b[0m\u001b[37m\u001b[0m \u001b[1m10s\u001b[0m 6ms/step - class_output1_accuracy: 0.9887 - class_output1_loss: 0.0357 - class_output2_accuracy: 0.9960 - class_output2_loss: 0.0143 - loss: 0.0500 - val_class_output1_accuracy: 0.8789 - val_class_output1_loss: 0.5022 - val_class_output2_accuracy: 0.9263 - val_class_output2_loss: 0.3348 - val_loss: 0.8376 - learning_rate: 9.0000e-05\n",
            "Epoch 15/20\n",
            "\u001b[1m1563/1563\u001b[0m \u001b[32m━━━━━━━━━━━━━━━━━━━━\u001b[0m\u001b[37m\u001b[0m \u001b[1m10s\u001b[0m 6ms/step - class_output1_accuracy: 0.9934 - class_output1_loss: 0.0243 - class_output2_accuracy: 0.9966 - class_output2_loss: 0.0117 - loss: 0.0361 - val_class_output1_accuracy: 0.8781 - val_class_output1_loss: 0.5247 - val_class_output2_accuracy: 0.9274 - val_class_output2_loss: 0.3494 - val_loss: 0.8745 - learning_rate: 9.0000e-05\n",
            "Epoch 16/20\n",
            "\u001b[1m1558/1563\u001b[0m \u001b[32m━━━━━━━━━━━━━━━━━━━\u001b[0m\u001b[37m━\u001b[0m \u001b[1m0s\u001b[0m 6ms/step - class_output1_accuracy: 0.9939 - class_output1_loss: 0.0207 - class_output2_accuracy: 0.9969 - class_output2_loss: 0.0106 - loss: 0.0312\n",
            "Epoch 16: ReduceLROnPlateau reducing learning rate to 2.700000040931627e-05.\n",
            "\u001b[1m1563/1563\u001b[0m \u001b[32m━━━━━━━━━━━━━━━━━━━━\u001b[0m\u001b[37m\u001b[0m \u001b[1m10s\u001b[0m 6ms/step - class_output1_accuracy: 0.9939 - class_output1_loss: 0.0207 - class_output2_accuracy: 0.9969 - class_output2_loss: 0.0106 - loss: 0.0312 - val_class_output1_accuracy: 0.8777 - val_class_output1_loss: 0.5522 - val_class_output2_accuracy: 0.9267 - val_class_output2_loss: 0.3593 - val_loss: 0.9120 - learning_rate: 9.0000e-05\n",
            "Epoch 17/20\n",
            "\u001b[1m1563/1563\u001b[0m \u001b[32m━━━━━━━━━━━━━━━━━━━━\u001b[0m\u001b[37m\u001b[0m \u001b[1m10s\u001b[0m 6ms/step - class_output1_accuracy: 0.9956 - class_output1_loss: 0.0174 - class_output2_accuracy: 0.9981 - class_output2_loss: 0.0076 - loss: 0.0250 - val_class_output1_accuracy: 0.8789 - val_class_output1_loss: 0.5568 - val_class_output2_accuracy: 0.9269 - val_class_output2_loss: 0.3604 - val_loss: 0.9179 - learning_rate: 2.7000e-05\n",
            "Epoch 18/20\n",
            "\u001b[1m1563/1563\u001b[0m \u001b[32m━━━━━━━━━━━━━━━━━━━━\u001b[0m\u001b[37m\u001b[0m \u001b[1m10s\u001b[0m 6ms/step - class_output1_accuracy: 0.9961 - class_output1_loss: 0.0152 - class_output2_accuracy: 0.9978 - class_output2_loss: 0.0076 - loss: 0.0227 - val_class_output1_accuracy: 0.8795 - val_class_output1_loss: 0.5588 - val_class_output2_accuracy: 0.9278 - val_class_output2_loss: 0.3699 - val_loss: 0.9293 - learning_rate: 2.7000e-05\n",
            "Epoch 19/20\n",
            "\u001b[1m1562/1563\u001b[0m \u001b[32m━━━━━━━━━━━━━━━━━━━\u001b[0m\u001b[37m━\u001b[0m \u001b[1m0s\u001b[0m 5ms/step - class_output1_accuracy: 0.9967 - class_output1_loss: 0.0136 - class_output2_accuracy: 0.9978 - class_output2_loss: 0.0075 - loss: 0.0210\n",
            "Epoch 19: ReduceLROnPlateau reducing learning rate to 8.100000013655517e-06.\n",
            "\u001b[1m1563/1563\u001b[0m \u001b[32m━━━━━━━━━━━━━━━━━━━━\u001b[0m\u001b[37m\u001b[0m \u001b[1m9s\u001b[0m 6ms/step - class_output1_accuracy: 0.9967 - class_output1_loss: 0.0136 - class_output2_accuracy: 0.9978 - class_output2_loss: 0.0075 - loss: 0.0210 - val_class_output1_accuracy: 0.8792 - val_class_output1_loss: 0.5696 - val_class_output2_accuracy: 0.9270 - val_class_output2_loss: 0.3747 - val_loss: 0.9449 - learning_rate: 2.7000e-05\n",
            "Epoch 20/20\n",
            "\u001b[1m1563/1563\u001b[0m \u001b[32m━━━━━━━━━━━━━━━━━━━━\u001b[0m\u001b[37m\u001b[0m \u001b[1m10s\u001b[0m 7ms/step - class_output1_accuracy: 0.9967 - class_output1_loss: 0.0130 - class_output2_accuracy: 0.9982 - class_output2_loss: 0.0067 - loss: 0.0197 - val_class_output1_accuracy: 0.8811 - val_class_output1_loss: 0.5708 - val_class_output2_accuracy: 0.9268 - val_class_output2_loss: 0.3729 - val_loss: 0.9442 - learning_rate: 8.1000e-06\n"
          ]
        }
      ],
      "source": [
        "# Creazione e valutazione del modello\n",
        "model_instance = build_model()\n",
        "assess_model(model_instance)\n",
        "\n",
        "# Aggiustamento dinamico del Learning Rate\n",
        "lr_scheduler = ReduceLROnPlateau(\n",
        "    monitor='val_loss',\n",
        "    patience=3, # Epoche senza miglioramenti necessarie per diminuire LR\n",
        "    verbose=1,\n",
        "    factor=0.3, # Fattore di diminuzione LR\n",
        "    min_lr=1e-6 # Valore minimo LR\n",
        ")\n",
        "\n",
        "# Training del modello\n",
        "training_history = model_instance.fit(\n",
        "    cifar10_x_train, # Utilizziamo dati di training\n",
        "    {\n",
        "        'class_output1': tf.keras.utils.to_categorical(\n",
        "            np.where(cifar10_y_train < 5, cifar10_y_train, 0), num_classes=5\n",
        "        ),\n",
        "        'class_output2': tf.keras.utils.to_categorical(\n",
        "            np.where(cifar10_y_train >= 5, cifar10_y_train - 5, 0), num_classes=5\n",
        "        )\n",
        "    },\n",
        "    epochs=20, #Ripetizioni\n",
        "    batch_size=32,\n",
        "    validation_data=(\n",
        "        cifar10_x_test, # Dati di validazione/test\n",
        "        {\n",
        "            'class_output1': tf.keras.utils.to_categorical(\n",
        "                np.where(cifar10_y_test < 5, cifar10_y_test, 0), num_classes=5\n",
        "            ),\n",
        "            'class_output2': tf.keras.utils.to_categorical(\n",
        "                np.where(cifar10_y_test >= 5, cifar10_y_test - 5, 0), num_classes=5\n",
        "            )\n",
        "        }\n",
        "    ),\n",
        "    callbacks=[lr_scheduler]\n",
        ")"
      ]
    },
    {
      "cell_type": "markdown",
      "metadata": {
        "id": "7usBI88dje70"
      },
      "source": [
        "let us repeat the evaluation ten times, and comput the standard deviation"
      ]
    },
    {
      "cell_type": "code",
      "execution_count": null,
      "metadata": {
        "colab": {
          "base_uri": "https://localhost:8080/"
        },
        "id": "ZFu8iEt9jdZA",
        "outputId": "1c11f296-7cc2-48e9-953e-aac1e047bc12"
      },
      "outputs": [
        {
          "output_type": "stream",
          "name": "stdout",
          "text": [
            "Execution number 1/10\n",
            "Execution number 2/10\n",
            "Execution number 3/10\n",
            "Execution number 4/10\n",
            "Execution number 5/10\n",
            "Execution number 6/10\n",
            "Execution number 7/10\n",
            "Execution number 8/10\n",
            "Execution number 9/10\n",
            "Execution number 10/10\n",
            "Valutazione delle accuracies: [0.9039500057697296, 0.9039500057697296, 0.9039500057697296, 0.9039500057697296, 0.9039500057697296, 0.9039500057697296, 0.9039500057697296, 0.9039500057697296, 0.9039500057697296, 0.9039500057697296]\n",
            "Accuracy media: 0.9040\n",
            "Standard Deviation: 0.0000\n"
          ]
        }
      ],
      "source": [
        "all_accuracies = []\n",
        "random_indices = np.random.choice(cifar10_x_test.shape[0], 10000, replace=False) # Generazione dei 10000 input dai dati di test\n",
        "\n",
        "# Eseguiamo il calcolo 10 volte\n",
        "for run in range(10):\n",
        "    print(f\"Execution number {run + 1}/10\")\n",
        "    np.random.seed(run)\n",
        "\n",
        "    sampled_x = cifar10_x_test[random_indices]\n",
        "\n",
        "    sampled_y1 = tf.keras.utils.to_categorical(\n",
        "        np.where(cifar10_y_test[random_indices] < 5, cifar10_y_test[random_indices], 0),\n",
        "        num_classes=5\n",
        "    )\n",
        "    sampled_y2 = tf.keras.utils.to_categorical(\n",
        "        np.where(cifar10_y_test[random_indices] >= 5, cifar10_y_test[random_indices] - 5, 0),\n",
        "        num_classes=5\n",
        "    )\n",
        "\n",
        "    eval_results = model_instance.evaluate(\n",
        "        sampled_x,\n",
        "        {'class_output1': sampled_y1, 'class_output2': sampled_y2},\n",
        "        verbose=0\n",
        "    )\n",
        "\n",
        "    acc_group1 = eval_results[3]\n",
        "    acc_group2 = eval_results[4]\n",
        "    avg_acc = (acc_group1 + acc_group2) / 2\n",
        "    all_accuracies.append(avg_acc)\n",
        "\n",
        "# Calcolo e output risultati\n",
        "accuracy_mean = np.mean(all_accuracies)\n",
        "accuracy_std = np.std(all_accuracies)\n",
        "\n",
        "print(\"Valutazione delle accuracies:\", all_accuracies)\n",
        "print(f\"Accuracy media: {accuracy_mean:.4f}\")\n",
        "print(f\"Standard Deviation: {accuracy_std:.4f}\")"
      ]
    },
    {
      "cell_type": "markdown",
      "metadata": {
        "id": "j1yTRAzn4i9g"
      },
      "source": [
        "# Cosa consegnare\n",
        "\n",
        "Come di consueto, dovete consegnare un singolo notebook che deve essere eseguibile su colab. Il notebook deve essere adeguatamente commentato a contenere una traccia completa del training, come anche il calcolo della accuratezza secondo le direttive date sopra.\n",
        "\n",
        "#Buon lavoro!"
      ]
    }
  ],
  "metadata": {
    "accelerator": "GPU",
    "colab": {
      "provenance": [],
      "gpuType": "T4",
      "include_colab_link": true
    },
    "kernelspec": {
      "display_name": "Python 3",
      "name": "python3"
    },
    "language_info": {
      "name": "python"
    }
  },
  "nbformat": 4,
  "nbformat_minor": 0
}